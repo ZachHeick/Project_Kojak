{
 "cells": [
  {
   "cell_type": "markdown",
   "metadata": {},
   "source": [
    "Topic: Project 5  \n",
    "Subject: Scraping Hip-hop artists from Wikipedia  \n",
    "Date: 12/12/2017  \n",
    "Name: Zach Heick  "
   ]
  },
  {
   "cell_type": "markdown",
   "metadata": {},
   "source": [
    "**Summary**: Scraped hip-hop artists from Wikipedia and stored data into database."
   ]
  },
  {
   "cell_type": "code",
   "execution_count": 8,
   "metadata": {
    "collapsed": true
   },
   "outputs": [],
   "source": [
    "import numpy as np\n",
    "import pandas as pd\n",
    "from bs4 import BeautifulSoup\n",
    "import requests\n",
    "import spotipy\n",
    "import spotipy.util as util\n",
    "from spotipy.oauth2 import SpotifyClientCredentials\n",
    "import os\n",
    "from pprint import pprint\n",
    "import re\n",
    "from collections import defaultdict"
   ]
  },
  {
   "cell_type": "markdown",
   "metadata": {},
   "source": [
    "# Scrape Hip-Hop Artists from Wikipedia"
   ]
  },
  {
   "cell_type": "code",
   "execution_count": 2,
   "metadata": {
    "collapsed": true
   },
   "outputs": [],
   "source": [
    "url = 'https://en.wikipedia.org/wiki/List_of_hip_hop_musicians'\n",
    "response = requests.get(url)\n",
    "page = response.text\n",
    "soup = BeautifulSoup(page,\"html5lib\")"
   ]
  },
  {
   "cell_type": "code",
   "execution_count": 3,
   "metadata": {
    "collapsed": true
   },
   "outputs": [],
   "source": [
    "hh_artists = []\n",
    "for item in soup.find_all(class_='div-col columns column-width'):\n",
    "    for li in item.find_all('li'):\n",
    "        text = re.sub('\\[\\w*\\]', '', li.text)\n",
    "        hh_artists.append(text)"
   ]
  },
  {
   "cell_type": "code",
   "execution_count": 4,
   "metadata": {
    "collapsed": true
   },
   "outputs": [],
   "source": [
    "client_credentials_manager = SpotifyClientCredentials(client_id=os.environ['SPOTIFY_CLIENT_ID'],\n",
    "                                                     client_secret=os.environ['SPOTIFY_CLIENT_SECRET'])\n",
    "\n",
    "spotify = spotipy.Spotify(client_credentials_manager=client_credentials_manager)"
   ]
  },
  {
   "cell_type": "code",
   "execution_count": 5,
   "metadata": {
    "collapsed": true
   },
   "outputs": [],
   "source": [
    "def get_artist_data(name):\n",
    "    \"\"\"\n",
    "    Get artist IDs from Spotify API\n",
    "    :param name: name of the artist\n",
    "    :return: artist name, ID, and popularity score\n",
    "    \"\"\"\n",
    "    artist_data = {}\n",
    "\n",
    "    results = spotify.search(q='artist:' + name, type='artist')\n",
    "    \n",
    "    if len(results['artists']['items']) > 0:\n",
    "        top_result = results['artists']['items'][0]\n",
    "        artist_data['name'] = name\n",
    "        artist_data['id'] = top_result['id']\n",
    "        artist_data['popularity'] = top_result['popularity']\n",
    "        return artist_data\n",
    "    else:\n",
    "        return None  "
   ]
  },
  {
   "cell_type": "code",
   "execution_count": 6,
   "metadata": {
    "scrolled": false
   },
   "outputs": [
    {
     "name": "stdout",
     "output_type": "stream",
     "text": [
      "retrying ...1secs\n"
     ]
    }
   ],
   "source": [
    "artist_data = []\n",
    "for name in hh_artists:\n",
    "    data = get_artist_data(name)\n",
    "    artist_data.append(data)"
   ]
  },
  {
   "cell_type": "code",
   "execution_count": 7,
   "metadata": {
    "collapsed": true
   },
   "outputs": [],
   "source": [
    "ids = []\n",
    "for d in artist_data:\n",
    "    if d == None:\n",
    "        ids.append('-1')\n",
    "    else:\n",
    "        ids.append(d['id'])"
   ]
  },
  {
   "cell_type": "markdown",
   "metadata": {},
   "source": [
    "# Removing Duplicate Artists"
   ]
  },
  {
   "cell_type": "code",
   "execution_count": 9,
   "metadata": {},
   "outputs": [
    {
     "name": "stdout",
     "output_type": "stream",
     "text": [
      "Duplicates\n",
      "\n",
      "1URnnhqYAYcrqrcwql10ft [6, 943]\n",
      "21 Savage\n",
      "Savage\n",
      "---------------\n",
      "6gc6oo3u2f7SqTd4mhe81O [30, 488]\n",
      "Ahmad\n",
      "Jamal\n",
      "---------------\n",
      "-1 [134, 157, 174, 223, 281, 382, 406, 518, 524, 549, 602, 667, 775, 792, 814, 1005, 1032, 1082, 1090, 1091, 1106, 1118, 1144, 1155]\n",
      "Boi-1da\n",
      "Busy Bee Starski\n",
      "---------------\n",
      "7pqZVedlsryCmpMGf9L9zV [152, 383]\n",
      "Bumpy Knuckles\n",
      "Freddie Foxxx\n",
      "---------------\n",
      "3BG9cpTxZQzQChcsp7ss9a [167, 754]\n",
      "Capone\n",
      "Mr. Capone-E\n",
      "---------------\n",
      "5NjUjtjtkzZqRuWFdspT1K [200, 568]\n",
      "Chip\n",
      "King Chip\n",
      "---------------\n",
      "7c0XG5cIJTrrAgEC3ULPiq [309, 1114]\n",
      "Dolla\n",
      "Ty Dolla Sign\n",
      "---------------\n",
      "6f4XkbvYlXMH0QgVRzW0sM [368, 1139]\n",
      "FLAME\n",
      "Waka Flocka Flame\n",
      "---------------\n",
      "7LnaAXbDVIL75IVPnndf7w [376, 490]\n",
      "Foxx\n",
      "Jamie Foxx\n",
      "---------------\n",
      "4Q5sPmM8j4SpMqL4UA1DtS [618, 638]\n",
      "Lil Flip\n",
      "Lil' Flip\n",
      "---------------\n",
      "4LLpKhyESsyAXpc4laK94U [671, 675]\n",
      "Mac\n",
      "Mac Miller\n",
      "---------------\n",
      "5lHRUCqkQZCIWeX7xG4sYT [858, 899]\n",
      "Quan\n",
      "Rich Homie Quan\n",
      "---------------\n",
      "0bfX8pF8kuHNCs57Ms4jZb [918, 919]\n",
      "Roscoe\n",
      "Roscoe Dash\n",
      "---------------\n",
      "27w1NoOLMX7tJMYqcetPyG [1125, 1134]\n",
      "V.I.C.\n",
      "Vic Mensa\n",
      "---------------\n"
     ]
    }
   ],
   "source": [
    "dups = defaultdict(list)\n",
    "for i, e in enumerate(ids):\n",
    "    dups[e].append(i)\n",
    "    \n",
    "print('Duplicates\\n')\n",
    "    \n",
    "for k, v in dups.items():\n",
    "    if len(v) >= 2:\n",
    "        print(k,v)\n",
    "        print(hh_artists[v[0]])\n",
    "        print(hh_artists[v[1]])\n",
    "        print('---------------')"
   ]
  },
  {
   "cell_type": "code",
   "execution_count": 10,
   "metadata": {
    "collapsed": true
   },
   "outputs": [],
   "source": [
    "duplicates = [943,488,152,383,167,200,309,368,376,638,671,858,918,1125]\n",
    "artist_data = np.delete(artist_data, duplicates)"
   ]
  },
  {
   "cell_type": "code",
   "execution_count": 11,
   "metadata": {},
   "outputs": [
    {
     "data": {
      "text/plain": [
       "1192"
      ]
     },
     "execution_count": 11,
     "metadata": {},
     "output_type": "execute_result"
    }
   ],
   "source": [
    "len(artist_data)"
   ]
  },
  {
   "cell_type": "markdown",
   "metadata": {},
   "source": [
    "# Store Data"
   ]
  },
  {
   "cell_type": "code",
   "execution_count": 35,
   "metadata": {
    "collapsed": true
   },
   "outputs": [],
   "source": [
    "from sqlalchemy import create_engine, MetaData, Table\n",
    "engine_name = 'postgresql://' + str(os.environ['zU']) + ':' + str(os.environ['zP']) + '@13.59.54.149:5432/project_kojak'\n",
    "engine = create_engine(engine_name)\n",
    "\n",
    "m = MetaData()\n",
    "m.reflect(engine)"
   ]
  },
  {
   "cell_type": "code",
   "execution_count": 36,
   "metadata": {},
   "outputs": [
    {
     "data": {
      "text/plain": [
       "<sqlalchemy.engine.result.ResultProxy at 0x113bedb38>"
      ]
     },
     "execution_count": 36,
     "metadata": {},
     "output_type": "execute_result"
    }
   ],
   "source": [
    "conn = engine.connect()\n",
    "conn.execute(m.tables['artists'].insert(), [d for d in artist_data if d is not None])"
   ]
  }
 ],
 "metadata": {
  "kernelspec": {
   "display_name": "Python [default]",
   "language": "python",
   "name": "python3"
  },
  "language_info": {
   "codemirror_mode": {
    "name": "ipython",
    "version": 3
   },
   "file_extension": ".py",
   "mimetype": "text/x-python",
   "name": "python",
   "nbconvert_exporter": "python",
   "pygments_lexer": "ipython3",
   "version": "3.6.2"
  }
 },
 "nbformat": 4,
 "nbformat_minor": 2
}
