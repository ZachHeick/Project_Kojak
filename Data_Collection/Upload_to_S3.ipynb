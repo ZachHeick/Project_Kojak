{
 "cells": [
  {
   "cell_type": "markdown",
   "metadata": {},
   "source": [
    "Topic: Project 5  \n",
    "Subject: Creating Final Dataframe   \n",
    "Date: 12/12/2017  \n",
    "Name: Zach Heick  "
   ]
  },
  {
   "cell_type": "markdown",
   "metadata": {},
   "source": [
    "**Summary**: Gathers all data from multiple SQL tables and saves a dataframe for modeling."
   ]
  },
  {
   "cell_type": "code",
   "execution_count": 14,
   "metadata": {
    "collapsed": true
   },
   "outputs": [],
   "source": [
    "import pickle\n",
    "import os\n",
    "import boto3\n",
    "import numpy as np\n",
    "import pandas as pd\n",
    "from sqlalchemy import create_engine, MetaData, Table, select\n",
    "import os\n",
    "import pickle\n",
    "from nltk.corpus import stopwords\n",
    "from nltk import RegexpTokenizer"
   ]
  },
  {
   "cell_type": "code",
   "execution_count": 15,
   "metadata": {
    "collapsed": true
   },
   "outputs": [],
   "source": [
    "engine_name = 'postgresql://' + str(os.environ['zU']) + ':' + str(os.environ['zP']) + str(os.environ['AWS_PROJECT_KOJAK_EC2'])\n",
    "engine = create_engine(engine_name)"
   ]
  },
  {
   "cell_type": "code",
   "execution_count": 16,
   "metadata": {
    "collapsed": true
   },
   "outputs": [],
   "source": [
    "df = pd.read_sql_query('''SELECT \n",
    "                           tracks.album_art,\n",
    "                           tracks.album_name,\n",
    "                           tracks.duration_ms,\n",
    "                           tracks.energy,\n",
    "                           tracks.liveness,\n",
    "                           tracks.loudness,\n",
    "                           tracks.speechiness,\n",
    "                           tracks.tempo,\n",
    "                           tracks.track_id,\n",
    "                           tracks.track_name,\n",
    "                           artists.artist_popularity,\n",
    "                           artists.artist_name,\n",
    "                           artists.artist_id,\n",
    "                           lyrics.lyrics \n",
    "                           FROM tracks\n",
    "                           JOIN artists ON tracks.artist_id = artists.artist_id\n",
    "                           JOIN lyrics ON tracks.track_id = lyrics.track_id\n",
    "                           WHERE tracks.energy IS NOT NULL\n",
    "                           AND lyrics.lyrics IS NOT NULL\n",
    "                           AND artists.artist_name != 'Kid Rock'\n",
    "                           ORDER BY tracks.track_name;''', engine)"
   ]
  },
  {
   "cell_type": "code",
   "execution_count": 17,
   "metadata": {},
   "outputs": [
    {
     "name": "stdout",
     "output_type": "stream",
     "text": [
      "<class 'pandas.core.frame.DataFrame'>\n",
      "RangeIndex: 19831 entries, 0 to 19830\n",
      "Data columns (total 6 columns):\n",
      "track_name           19831 non-null object\n",
      "artist_name          19831 non-null object\n",
      "album_art            19831 non-null object\n",
      "lyrics               19831 non-null object\n",
      "track_id             19831 non-null object\n",
      "track_preview_url    14400 non-null object\n",
      "dtypes: object(6)\n",
      "memory usage: 929.7+ KB\n"
     ]
    }
   ],
   "source": [
    "df.info()"
   ]
  },
  {
   "cell_type": "code",
   "execution_count": 18,
   "metadata": {
    "collapsed": true
   },
   "outputs": [],
   "source": [
    "import string"
   ]
  },
  {
   "cell_type": "code",
   "execution_count": 19,
   "metadata": {
    "collapsed": true
   },
   "outputs": [],
   "source": [
    "df['track_name'] = df['track_name'].apply(lambda i: string.capwords(i))"
   ]
  },
  {
   "cell_type": "code",
   "execution_count": 20,
   "metadata": {
    "collapsed": true
   },
   "outputs": [],
   "source": [
    "df.drop_duplicates(subset=['track_name', 'artist_name'], inplace=True)"
   ]
  },
  {
   "cell_type": "code",
   "execution_count": 21,
   "metadata": {},
   "outputs": [
    {
     "name": "stdout",
     "output_type": "stream",
     "text": [
      "<class 'pandas.core.frame.DataFrame'>\n",
      "Int64Index: 19831 entries, 0 to 19830\n",
      "Data columns (total 6 columns):\n",
      "track_name           19831 non-null object\n",
      "artist_name          19831 non-null object\n",
      "album_art            19831 non-null object\n",
      "lyrics               19831 non-null object\n",
      "track_id             19831 non-null object\n",
      "track_preview_url    14400 non-null object\n",
      "dtypes: object(6)\n",
      "memory usage: 1.1+ MB\n"
     ]
    }
   ],
   "source": [
    "df.info()"
   ]
  },
  {
   "cell_type": "code",
   "execution_count": 22,
   "metadata": {
    "collapsed": true
   },
   "outputs": [],
   "source": [
    "df.reset_index(drop=True, inplace=True)"
   ]
  },
  {
   "cell_type": "code",
   "execution_count": 23,
   "metadata": {
    "collapsed": true
   },
   "outputs": [],
   "source": [
    "df.drop(df[df['lyrics'].str.contains('<span')].index, inplace=True)"
   ]
  },
  {
   "cell_type": "code",
   "execution_count": 24,
   "metadata": {
    "collapsed": true
   },
   "outputs": [],
   "source": [
    "df.reset_index(drop=True, inplace=True)"
   ]
  },
  {
   "cell_type": "code",
   "execution_count": 25,
   "metadata": {},
   "outputs": [
    {
     "data": {
      "text/plain": [
       "19831"
      ]
     },
     "execution_count": 25,
     "metadata": {},
     "output_type": "execute_result"
    }
   ],
   "source": [
    "len(df)"
   ]
  },
  {
   "cell_type": "code",
   "execution_count": 26,
   "metadata": {
    "collapsed": true
   },
   "outputs": [],
   "source": [
    "with open('../Web_App/static/all_lyrics_dataframe.pickle', 'wb') as f:\n",
    "    pickle.dump(df, f)"
   ]
  },
  {
   "cell_type": "code",
   "execution_count": 22,
   "metadata": {
    "collapsed": true
   },
   "outputs": [],
   "source": [
    "s3 = boto3.client('s3', \n",
    "                  aws_access_key_id=os.environ['AWS_ACCESS_KEY'], \n",
    "                  aws_secret_access_key=os.environ['AWS_SECRET_KEY'])"
   ]
  },
  {
   "cell_type": "code",
   "execution_count": 23,
   "metadata": {
    "collapsed": true
   },
   "outputs": [],
   "source": [
    "s3.upload_file('../Data_Files/all_lyrics_dataframe.pickle', 'metis-project-kojak-bucket', 'all_lyrics_dataframe.pickle')"
   ]
  },
  {
   "cell_type": "code",
   "execution_count": null,
   "metadata": {
    "collapsed": true
   },
   "outputs": [],
   "source": []
  }
 ],
 "metadata": {
  "kernelspec": {
   "display_name": "Python [default]",
   "language": "python",
   "name": "python3"
  },
  "language_info": {
   "codemirror_mode": {
    "name": "ipython",
    "version": 3
   },
   "file_extension": ".py",
   "mimetype": "text/x-python",
   "name": "python",
   "nbconvert_exporter": "python",
   "pygments_lexer": "ipython3",
   "version": "3.6.2"
  }
 },
 "nbformat": 4,
 "nbformat_minor": 2
}
