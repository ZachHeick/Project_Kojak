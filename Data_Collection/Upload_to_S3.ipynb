{
 "cells": [
  {
   "cell_type": "code",
   "execution_count": 1,
   "metadata": {
    "collapsed": true
   },
   "outputs": [],
   "source": [
    "import pickle\n",
    "import os\n",
    "import boto3\n",
    "import numpy as np\n",
    "import pandas as pd\n",
    "from sqlalchemy import create_engine, MetaData, Table, select\n",
    "import os\n",
    "import pickle\n",
    "from nltk.corpus import stopwords\n",
    "from nltk import RegexpTokenizer"
   ]
  },
  {
   "cell_type": "code",
   "execution_count": 2,
   "metadata": {
    "collapsed": true
   },
   "outputs": [],
   "source": [
    "engine_name = 'postgresql://' + str(os.environ['zU']) + ':' + str(os.environ['zP']) + '@13.59.54.149:5432/project_kojak'\n",
    "engine = create_engine(engine_name)"
   ]
  },
  {
   "cell_type": "code",
   "execution_count": 3,
   "metadata": {
    "collapsed": true
   },
   "outputs": [],
   "source": [
    "df = pd.read_sql_query('''SELECT \n",
    "                           tracks.album_art,\n",
    "                           tracks.album_name,\n",
    "                           tracks.duration_ms,\n",
    "                           tracks.energy,\n",
    "                           tracks.liveness,\n",
    "                           tracks.loudness,\n",
    "                           tracks.speechiness,\n",
    "                           tracks.tempo,\n",
    "                           tracks.track_id,\n",
    "                           tracks.track_name,\n",
    "                           artists.artist_popularity,\n",
    "                           artists.artist_name,\n",
    "                           artists.artist_id,\n",
    "                           lyrics.lyrics \n",
    "                           FROM tracks\n",
    "                           JOIN artists ON tracks.artist_id = artists.artist_id\n",
    "                           JOIN lyrics ON tracks.track_id = lyrics.track_id\n",
    "                           WHERE tracks.energy IS NOT NULL\n",
    "                           AND lyrics.lyrics IS NOT NULL\n",
    "                           ORDER BY tracks.track_name;''', engine)"
   ]
  },
  {
   "cell_type": "code",
   "execution_count": 4,
   "metadata": {},
   "outputs": [
    {
     "name": "stdout",
     "output_type": "stream",
     "text": [
      "<class 'pandas.core.frame.DataFrame'>\n",
      "RangeIndex: 20359 entries, 0 to 20358\n",
      "Data columns (total 14 columns):\n",
      "album_art            20359 non-null object\n",
      "album_name           20359 non-null object\n",
      "duration_ms          20359 non-null int64\n",
      "energy               20359 non-null float64\n",
      "liveness             20359 non-null float64\n",
      "loudness             20359 non-null float64\n",
      "speechiness          20359 non-null float64\n",
      "tempo                20359 non-null float64\n",
      "track_id             20359 non-null object\n",
      "track_name           20359 non-null object\n",
      "artist_popularity    20359 non-null int64\n",
      "artist_name          20359 non-null object\n",
      "artist_id            20359 non-null object\n",
      "lyrics               20359 non-null object\n",
      "dtypes: float64(5), int64(2), object(7)\n",
      "memory usage: 2.2+ MB\n"
     ]
    }
   ],
   "source": [
    "df.info()"
   ]
  },
  {
   "cell_type": "code",
   "execution_count": 5,
   "metadata": {
    "collapsed": true
   },
   "outputs": [],
   "source": [
    "import string"
   ]
  },
  {
   "cell_type": "code",
   "execution_count": 6,
   "metadata": {
    "collapsed": true
   },
   "outputs": [],
   "source": [
    "df['track_name'] = df['track_name'].apply(lambda i: string.capwords(i))"
   ]
  },
  {
   "cell_type": "code",
   "execution_count": 7,
   "metadata": {
    "collapsed": true
   },
   "outputs": [],
   "source": [
    "df.drop_duplicates(subset=['track_name', 'artist_name'], inplace=True)"
   ]
  },
  {
   "cell_type": "code",
   "execution_count": 8,
   "metadata": {},
   "outputs": [
    {
     "name": "stdout",
     "output_type": "stream",
     "text": [
      "<class 'pandas.core.frame.DataFrame'>\n",
      "Int64Index: 20073 entries, 0 to 20358\n",
      "Data columns (total 14 columns):\n",
      "album_art            20073 non-null object\n",
      "album_name           20073 non-null object\n",
      "duration_ms          20073 non-null int64\n",
      "energy               20073 non-null float64\n",
      "liveness             20073 non-null float64\n",
      "loudness             20073 non-null float64\n",
      "speechiness          20073 non-null float64\n",
      "tempo                20073 non-null float64\n",
      "track_id             20073 non-null object\n",
      "track_name           20073 non-null object\n",
      "artist_popularity    20073 non-null int64\n",
      "artist_name          20073 non-null object\n",
      "artist_id            20073 non-null object\n",
      "lyrics               20073 non-null object\n",
      "dtypes: float64(5), int64(2), object(7)\n",
      "memory usage: 2.3+ MB\n"
     ]
    }
   ],
   "source": [
    "df.info()"
   ]
  },
  {
   "cell_type": "code",
   "execution_count": 9,
   "metadata": {
    "collapsed": true
   },
   "outputs": [],
   "source": [
    "df.reset_index(drop=True, inplace=True)"
   ]
  },
  {
   "cell_type": "code",
   "execution_count": 10,
   "metadata": {
    "collapsed": true
   },
   "outputs": [],
   "source": [
    "df.drop(df[df['lyrics'].str.contains('<span')].index, inplace=True)"
   ]
  },
  {
   "cell_type": "code",
   "execution_count": 11,
   "metadata": {
    "collapsed": true
   },
   "outputs": [],
   "source": [
    "df.reset_index(drop=True, inplace=True)"
   ]
  },
  {
   "cell_type": "code",
   "execution_count": 12,
   "metadata": {},
   "outputs": [
    {
     "data": {
      "text/plain": [
       "19917"
      ]
     },
     "execution_count": 12,
     "metadata": {},
     "output_type": "execute_result"
    }
   ],
   "source": [
    "len(df)"
   ]
  },
  {
   "cell_type": "code",
   "execution_count": 13,
   "metadata": {
    "collapsed": true
   },
   "outputs": [],
   "source": [
    "with open('../Data_Files/all_lyrics_dataframe.pickle', 'wb') as f:\n",
    "    pickle.dump(df, f)"
   ]
  },
  {
   "cell_type": "code",
   "execution_count": 14,
   "metadata": {
    "collapsed": true
   },
   "outputs": [],
   "source": [
    "s3 = boto3.client('s3', \n",
    "                  aws_access_key_id=os.environ['AWS_ACCESS_KEY'], \n",
    "                  aws_secret_access_key=os.environ['AWS_SECRET_KEY'])"
   ]
  },
  {
   "cell_type": "code",
   "execution_count": 15,
   "metadata": {
    "collapsed": true
   },
   "outputs": [],
   "source": [
    "s3.upload_file('../Data_Files/all_lyrics_dataframe.pickle', 'metis-project-kojak-bucket', 'all_lyrics_dataframe.pickle')"
   ]
  },
  {
   "cell_type": "code",
   "execution_count": null,
   "metadata": {
    "collapsed": true
   },
   "outputs": [],
   "source": []
  }
 ],
 "metadata": {
  "kernelspec": {
   "display_name": "Python [default]",
   "language": "python",
   "name": "python3"
  },
  "language_info": {
   "codemirror_mode": {
    "name": "ipython",
    "version": 3
   },
   "file_extension": ".py",
   "mimetype": "text/x-python",
   "name": "python",
   "nbconvert_exporter": "python",
   "pygments_lexer": "ipython3",
   "version": "3.6.2"
  }
 },
 "nbformat": 4,
 "nbformat_minor": 2
}
