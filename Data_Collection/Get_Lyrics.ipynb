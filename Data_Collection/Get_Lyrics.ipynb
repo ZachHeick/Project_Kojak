{
 "cells": [
  {
   "cell_type": "markdown",
   "metadata": {},
   "source": [
    "Topic: Project 5  \n",
    "Subject: Getting Track Lyrics from Lyrics Wikia   \n",
    "Date: 12/12/2017  \n",
    "Name: Zach Heick  "
   ]
  },
  {
   "cell_type": "markdown",
   "metadata": {},
   "source": [
    "**Summary**: Uses PyLyrics library to scrape lyrics and store in PostgreSQL database."
   ]
  },
  {
   "cell_type": "code",
   "execution_count": 1,
   "metadata": {
    "collapsed": true
   },
   "outputs": [],
   "source": [
    "import numpy as np\n",
    "import pandas as pd\n",
    "from sqlalchemy import create_engine, MetaData, Table, select\n",
    "import os\n",
    "import boto3\n",
    "from PyLyrics import *\n",
    "import pickle\n",
    "import time"
   ]
  },
  {
   "cell_type": "code",
   "execution_count": 2,
   "metadata": {
    "collapsed": true
   },
   "outputs": [],
   "source": [
    "engine_name = 'postgresql://' + str(os.environ['POSTGRESQL_U']) + ':' + str(os.environ['POSTGRESQL_P']) + '@13.59.54.149:5432/project_kojak'\n",
    "engine = create_engine(engine_name)\n",
    "df = pd.read_sql_query('''SELECT * FROM tracks JOIN artists ON tracks.artist_id = artists.artist_id\n",
    "                          WHERE tracks.energy IS NOT NULL;''', engine)"
   ]
  },
  {
   "cell_type": "code",
   "execution_count": 3,
   "metadata": {},
   "outputs": [
    {
     "name": "stdout",
     "output_type": "stream",
     "text": [
      "<class 'pandas.core.frame.DataFrame'>\n",
      "RangeIndex: 141311 entries, 0 to 141310\n",
      "Data columns (total 15 columns):\n",
      "album_art            141311 non-null object\n",
      "album_id             141311 non-null object\n",
      "album_name           141311 non-null object\n",
      "artist_id            141311 non-null object\n",
      "duration_ms          141311 non-null int64\n",
      "energy               141311 non-null float64\n",
      "liveness             141311 non-null float64\n",
      "loudness             141311 non-null float64\n",
      "speechiness          141311 non-null float64\n",
      "tempo                141311 non-null float64\n",
      "track_id             141311 non-null object\n",
      "track_name           141311 non-null object\n",
      "artist_name          141311 non-null object\n",
      "artist_id            141311 non-null object\n",
      "artist_popularity    141311 non-null int64\n",
      "dtypes: float64(5), int64(2), object(8)\n",
      "memory usage: 16.2+ MB\n"
     ]
    }
   ],
   "source": [
    "df.info()"
   ]
  },
  {
   "cell_type": "code",
   "execution_count": 4,
   "metadata": {
    "collapsed": true
   },
   "outputs": [],
   "source": [
    "df.drop_duplicates(subset=['track_name', 'artist_name'], inplace=True)"
   ]
  },
  {
   "cell_type": "code",
   "execution_count": 5,
   "metadata": {},
   "outputs": [
    {
     "name": "stdout",
     "output_type": "stream",
     "text": [
      "<class 'pandas.core.frame.DataFrame'>\n",
      "Int64Index: 98815 entries, 0 to 141310\n",
      "Data columns (total 15 columns):\n",
      "album_art            98815 non-null object\n",
      "album_id             98815 non-null object\n",
      "album_name           98815 non-null object\n",
      "artist_id            98815 non-null object\n",
      "duration_ms          98815 non-null int64\n",
      "energy               98815 non-null float64\n",
      "liveness             98815 non-null float64\n",
      "loudness             98815 non-null float64\n",
      "speechiness          98815 non-null float64\n",
      "tempo                98815 non-null float64\n",
      "track_id             98815 non-null object\n",
      "track_name           98815 non-null object\n",
      "artist_name          98815 non-null object\n",
      "artist_id            98815 non-null object\n",
      "artist_popularity    98815 non-null int64\n",
      "dtypes: float64(5), int64(2), object(8)\n",
      "memory usage: 12.1+ MB\n"
     ]
    }
   ],
   "source": [
    "df.info()"
   ]
  },
  {
   "cell_type": "code",
   "execution_count": 6,
   "metadata": {
    "collapsed": true
   },
   "outputs": [],
   "source": [
    "s3 = boto3.client('s3', \n",
    "                  aws_access_key_id=os.environ['AWS_ACCESS_KEY'], \n",
    "                  aws_secret_access_key=os.environ['AWS_SECRET_KEY'])"
   ]
  },
  {
   "cell_type": "code",
   "execution_count": null,
   "metadata": {
    "collapsed": true
   },
   "outputs": [],
   "source": [
    "lyrics = []\n",
    "for i, row in enumerate(df[['artist_name', 'track_id', 'track_name']].itertuples()):\n",
    "    if i % 100 == 0 and i != 0:\n",
    "        print(i, end=' ')\n",
    "        \n",
    "    track_data = {}\n",
    "    track_data['artist_name'] = row[1]\n",
    "    track_data['track_id'] = row[2]\n",
    "    track_data['track_name'] = row[3]\n",
    "    \n",
    "    # Get lyrics from Lyrics Wiki, otherwise None\n",
    "    try:\n",
    "        track_data['lyrics'] = PyLyrics.getLyrics(row[1], row[3])\n",
    "        lyrics.append(track_data)\n",
    "        time.sleep(0.4)\n",
    "    except ValueError:\n",
    "        track_data['lyrics'] = None\n",
    "        lyrics.append(track_data)\n",
    "  \n",
    "# Store Data\n",
    "with open('lyrics.pickle', 'wb') as f:\n",
    "    pickle.dump(lyrics, f)\n",
    "\n",
    "s3.upload_file('lyrics.pickle', \n",
    "               'metis-project-kojak-bucket', \n",
    "               'lyrics_data/lyrics.pickle')\n",
    "m = MetaData()\n",
    "m.reflect(engine)\n",
    "conn = engine.connect()\n",
    "conn.execute(m.tables['lyrics'].insert(), lyrics)"
   ]
  },
  {
   "cell_type": "code",
   "execution_count": null,
   "metadata": {
    "collapsed": true
   },
   "outputs": [],
   "source": []
  }
 ],
 "metadata": {
  "kernelspec": {
   "display_name": "Python [default]",
   "language": "python",
   "name": "python3"
  },
  "language_info": {
   "codemirror_mode": {
    "name": "ipython",
    "version": 3
   },
   "file_extension": ".py",
   "mimetype": "text/x-python",
   "name": "python",
   "nbconvert_exporter": "python",
   "pygments_lexer": "ipython3",
   "version": "3.6.2"
  }
 },
 "nbformat": 4,
 "nbformat_minor": 2
}
